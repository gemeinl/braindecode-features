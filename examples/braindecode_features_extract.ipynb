{
 "cells": [
  {
   "cell_type": "code",
   "execution_count": null,
   "metadata": {},
   "outputs": [],
   "source": [
    "import sys\n",
    "sys.path.insert(0, '/home/lukas/Code/braindecode/')\n",
    "sys.path.insert(0, '/home/lukas/Code/braindecode-features/')"
   ]
  },
  {
   "cell_type": "code",
   "execution_count": null,
   "metadata": {},
   "outputs": [],
   "source": [
    "import logging\n",
    "logging.basicConfig()\n",
    "logger = logging.getLogger()\n",
    "logger.setLevel(logging.INFO)\n",
    "logging.debug(\"test\")"
   ]
  },
  {
   "cell_type": "code",
   "execution_count": null,
   "metadata": {},
   "outputs": [],
   "source": [
    "import os\n",
    "\n",
    "import numpy as np\n",
    "import pandas as pd\n",
    "pd.set_option('display.max_columns', 8)\n",
    "import mne\n",
    "mne.set_log_level('ERROR')\n",
    "\n",
    "from braindecode.datasets import MOABBDataset\n",
    "from braindecode.datasets.tuh import TUHAbnormal\n",
    "#from braindecode.datasets.tuh import _TUHAbnormalMock as TUHAbnormal  # delete to use actual data\n",
    "from braindecode.preprocessing import (\n",
    "    filterbank, preprocess, Preprocessor, create_windows_from_events, \n",
    "    create_fixed_length_windows, scale as multiply)\n",
    "\n",
    "from braindecode_features import extract_ds_features, save_features, filter_df"
   ]
  },
  {
   "cell_type": "code",
   "execution_count": null,
   "metadata": {},
   "outputs": [],
   "source": [
    "ds_name = 'BNCI2014001'\n",
    "out_path = './tmp/'\n",
    "n_jobs = 2\n",
    "agg_func = None\n",
    "if ds_name in ['BNCI2014001']:\n",
    "    subject_id = 1  \n",
    "    frequency_bands = [(4, 13), (13, 38)]\n",
    "elif ds_name in ['Schirrmeister2017']:\n",
    "    subject_id = 1\n",
    "    # TODO: add frequency bands\n",
    "else:\n",
    "    assert ds_name in ['TUHAbnormal']\n",
    "    frequency_bands = [(4, 8), (8, 13), (13, 30), (30, 50)]\n",
    "\n",
    "#------------------------------------------------------------------------------\n",
    "# stuffs to optimize\n",
    "sfreq = 250\n",
    "# original trials have 4s duration\n",
    "trial_start_offset_samples = int(0.5*sfreq)\n",
    "window_size_samples = 100\n",
    "window_stride_samples = 100\n",
    "\n",
    "# clf + hyperparams\n",
    "#------------------------------------------------------------------------------\n",
    "factor = 1e6\n",
    "max_abs_val = 800\n",
    "trial_stop_offset_samples = 0\n",
    "sensors = {\n",
    "    'Schirrmeister2017': (\n",
    "        'C1', 'C2', 'C3', 'C4', 'C5', 'C6', 'CCP1h', 'CCP2h', 'CCP3h', 'CCP4h',\n",
    "        'CCP5h', 'CCP6h', 'CP1', 'CP2', 'CP3', 'CP4', 'CP5', 'CP6', 'CPP1h',\n",
    "        'CPP2h', 'CPP3h', 'CPP4h', 'CPP5h', 'CPP6h', 'CPz', 'Cz', 'FC1', 'FC2',\n",
    "        'FC3', 'FC4', 'FC5', 'FC6', 'FCC1h', 'FCC2h', 'FCC3h', 'FCC4h',\n",
    "        'FCC5h', 'FCC6h', 'FCz', 'FFC1h', 'FFC2h', 'FFC3h', 'FFC4h', 'FFC5h',\n",
    "        'FFC6h',\n",
    "    ),\n",
    "    'BNCI2014001': (\n",
    "        'C1', 'C2', 'C3', 'C4', 'C5', 'C6', 'CP1', 'CP2', 'CP3', 'CP4', 'CPz',\n",
    "        'Cz', 'FC1', 'FC2', 'FC3', 'FC4', 'FCz', 'Fz', 'P1', 'P2', 'POz', 'Pz',\n",
    "    ),\n",
    "    'TUHAbnormal': (\n",
    "        'EEG A1-REF', 'EEG A2-REF', 'EEG C3-REF', 'EEG C4-REF',\n",
    "        'EEG CZ-REF', 'EEG F3-REF', 'EEG F4-REF', 'EEG F7-REF',\n",
    "        'EEG F8-REF', 'EEG FP1-REF', 'EEG FP2-REF', 'EEG FZ-REF',\n",
    "        'EEG O1-REF', 'EEG O2-REF', 'EEG P3-REF', 'EEG P4-REF',\n",
    "        'EEG PZ-REF', 'EEG T3-REF', 'EEG T4-REF', 'EEG T5-REF',\n",
    "        'EEG T6-REF',\n",
    "    ),\n",
    "}\n",
    "sensors = sensors[ds_name]\n",
    "train_eval_split = {\n",
    "    'Schirrmeister2017': 'run', \n",
    "    'BNCI2014001': 'session',\n",
    "    'TUHAbnormal': 'train',\n",
    "}\n",
    "eval_name = {\n",
    "    'Schirrmeister2017': 'test',\n",
    "    'BNCI2014001': 'session_E',\n",
    "    'TUHAbnormal': 'False',\n",
    "}"
   ]
  },
  {
   "cell_type": "code",
   "execution_count": null,
   "metadata": {},
   "outputs": [],
   "source": [
    "if ds_name in ['Schirrmeister2017', 'BNCI2014001']:\n",
    "    ds = MOABBDataset(\n",
    "        dataset_name=ds_name,\n",
    "        subject_ids=[subject_id],\n",
    "    )\n",
    "else:\n",
    "    assert ds_name in ['TUHAbnormal']\n",
    "    ds = TUHAbnormal(\n",
    "        path='/data/schirrmr/gemeinl/tuh-abnormal-eeg/raw/v2.0.0/edf/',\n",
    "        recording_ids=None,\n",
    "        target_name='pathological',\n",
    "        preload=False,\n",
    "        add_physician_reports=True,\n",
    "    )"
   ]
  },
  {
   "cell_type": "code",
   "execution_count": null,
   "metadata": {},
   "outputs": [],
   "source": [
    "ds.description"
   ]
  },
  {
   "cell_type": "code",
   "execution_count": null,
   "metadata": {},
   "outputs": [],
   "source": [
    "split_indicator = train_eval_split[ds_name]\n",
    "eval_ds_name = eval_name[ds_name]"
   ]
  },
  {
   "cell_type": "code",
   "execution_count": null,
   "metadata": {},
   "outputs": [],
   "source": [
    "# split into train and test session\n",
    "splits = ds.split(split_indicator)\n",
    "for split_name, split_ds in splits.items():\n",
    "    if split_name == eval_ds_name:\n",
    "        continue\n",
    "    break\n",
    "print(split_name)"
   ]
  },
  {
   "cell_type": "code",
   "execution_count": null,
   "metadata": {},
   "outputs": [],
   "source": [
    "if ds_name in ['TUHAbnormal']:\n",
    "    split_name = 'eval' if split_name == 'False' else 'train'\n",
    "elif ds_name in ['BNCI2014001']:\n",
    "    split_name = 'eval' if split_name == 'session_E' else 'train'\n",
    "elif ds_name in ['Schirrmeister2017']:\n",
    "    # TODO: add\n",
    "    pass"
   ]
  },
  {
   "cell_type": "code",
   "execution_count": null,
   "metadata": {},
   "outputs": [],
   "source": [
    "# some preprocessing steps\n",
    "preprocessors = [\n",
    "    Preprocessor(\n",
    "        apply_on_array=False,\n",
    "        fn='pick_channels', \n",
    "        ch_names=sensors, \n",
    "        ordered=True,\n",
    "    ),\n",
    "    Preprocessor(\n",
    "        apply_on_array=True,\n",
    "        fn=multiply,\n",
    "        factor=factor,\n",
    "    ),\n",
    "    Preprocessor(\n",
    "        apply_on_array=True,\n",
    "        fn=np.clip, \n",
    "        a_min=-max_abs_val, \n",
    "        a_max=max_abs_val,\n",
    "    ),\n",
    "    Preprocessor(\n",
    "        apply_on_array=False,\n",
    "        fn='resample', \n",
    "        sfreq=sfreq,\n",
    "    ),\n",
    "]\n",
    "# Additional preprocessing for TUHAbnormal\n",
    "if ds_name in ['TUHAbnormal']:\n",
    "    preprocessors.extend([\n",
    "        # EEG O1-REF -> O1\n",
    "        Preprocessor(\n",
    "            apply_on_array=False,\n",
    "            fn='rename_channels',\n",
    "            mapping=lambda ch: ch[ch.find(' ')+1:ch.find('-')],\n",
    "        ),\n",
    "        # discard first 60s\n",
    "        Preprocessor(\n",
    "            apply_on_array=False,\n",
    "            fn='crop',\n",
    "            tmin=60,\n",
    "        ),\n",
    "    ])\n",
    "# apply some preprocessing\n",
    "preprocess(\n",
    "    concat_ds=split_ds,\n",
    "    preprocessors=preprocessors,\n",
    "    #n_jobs=n_jobs,  # wait for braindecode PR277\n",
    ")"
   ]
  },
  {
   "cell_type": "code",
   "execution_count": null,
   "metadata": {},
   "outputs": [],
   "source": [
    "# define windowing parameters\n",
    "windowing_params = {\n",
    "    'drop_last_window': False,\n",
    "    'window_size_samples': window_size_samples,\n",
    "    'window_stride_samples': window_stride_samples,\n",
    "}\n",
    "if ds_name in ['Schirrmeister2017', 'BNCI2014001']:\n",
    "    windowing_params['trial_start_offset_samples'] = trial_start_offset_samples\n",
    "    windowing_params['trial_stop_offset_samples'] = trial_stop_offset_samples\n",
    "else:\n",
    "    assert ds_name in ['TUHAbnormal']\n",
    "    # map boolean pathological targets to integer \n",
    "    windowing_params['mapping'] = {False: 0, True: 1}"
   ]
  },
  {
   "cell_type": "code",
   "execution_count": null,
   "metadata": {},
   "outputs": [],
   "source": [
    "df = extract_ds_features(\n",
    "    ds=split_ds,\n",
    "    frequency_bands=frequency_bands,\n",
    "    n_jobs=n_jobs,\n",
    "    params={'Time__higuchi_fractal_dimension__kmax': 3},\n",
    "    windowing_params=windowing_params,\n",
    ")"
   ]
  },
  {
   "cell_type": "code",
   "execution_count": null,
   "metadata": {},
   "outputs": [],
   "source": [
    "df"
   ]
  },
  {
   "cell_type": "code",
   "execution_count": null,
   "metadata": {},
   "outputs": [],
   "source": [
    "df.dtypes"
   ]
  },
  {
   "cell_type": "code",
   "execution_count": null,
   "metadata": {},
   "outputs": [],
   "source": [
    "# save each trial feature matrix (windows x features) to an individual file\n",
    "if out_path is not None:\n",
    "    if ds_name in ['Schirrmeister2017', 'BNCI2014001']:\n",
    "        out_path = os.path.join(out_path, str(subject_id), split_name)\n",
    "    else:\n",
    "        assert ds_name in ['TUHAbnormal']\n",
    "        out_path = os.path.join(out_path, split_name)\n",
    "    if not os.path.exists(out_path):\n",
    "        os.makedirs(out_path)\n",
    "    save_features(\n",
    "        df=df, \n",
    "        out_path=out_path, \n",
    "    )"
   ]
  },
  {
   "cell_type": "code",
   "execution_count": null,
   "metadata": {},
   "outputs": [],
   "source": []
  }
 ],
 "metadata": {
  "kernelspec": {
   "display_name": "Python 3",
   "language": "python",
   "name": "python3"
  },
  "language_info": {
   "codemirror_mode": {
    "name": "ipython",
    "version": 3
   },
   "file_extension": ".py",
   "mimetype": "text/x-python",
   "name": "python",
   "nbconvert_exporter": "python",
   "pygments_lexer": "ipython3",
   "version": "3.9.5"
  }
 },
 "nbformat": 4,
 "nbformat_minor": 4
}

