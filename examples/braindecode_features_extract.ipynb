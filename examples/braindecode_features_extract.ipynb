{
 "cells": [
  {
   "cell_type": "code",
   "execution_count": 2,
   "metadata": {},
   "outputs": [],
   "source": [
    "import os\n",
    "import sys\n",
    "\n",
    "import matplotlib.pyplot as plt\n",
    "plt.style.use('seaborn')\n",
    "import numpy as np\n",
    "import pandas as pd\n",
    "pd.set_option('display.max_columns', 8)\n",
    "import mne\n",
    "mne.set_log_level('ERROR')\n",
    "\n",
    "from braindecode.datasets import MOABBDataset\n",
    "from braindecode.datautil.preprocess import filterbank, preprocess, MNEPreproc, NumpyPreproc\n",
    "from braindecode.datautil.windowers import create_windows_from_events\n",
    "\n",
    "sys.path.insert(0, '/home/gemeinl/code/braindecode-features/')\n",
    "from braindecode_features import *"
   ]
  },
  {
   "cell_type": "raw",
   "metadata": {},
   "source": [
    "Probably outdated. Check rocketchat Riemann channel for current results of Dan!\n",
    "\n",
    "Dan Wilson bands for subject 1\n",
    "2 band: [(73, 78), (10, 51)] -> 93.750%\n",
    "3 band: [(9, 95), (25, 81), (69, 75)] -> 95.312% \n",
    "\n",
    "Robin: [(9,25), (25,50), (69,75)]"
   ]
  },
  {
   "cell_type": "code",
   "execution_count": 3,
   "metadata": {},
   "outputs": [
    {
     "data": {
      "text/html": [
       "<div>\n",
       "<style scoped>\n",
       "    .dataframe tbody tr th:only-of-type {\n",
       "        vertical-align: middle;\n",
       "    }\n",
       "\n",
       "    .dataframe tbody tr th {\n",
       "        vertical-align: top;\n",
       "    }\n",
       "\n",
       "    .dataframe thead th {\n",
       "        text-align: right;\n",
       "    }\n",
       "</style>\n",
       "<table border=\"1\" class=\"dataframe\">\n",
       "  <thead>\n",
       "    <tr style=\"text-align: right;\">\n",
       "      <th></th>\n",
       "      <th>subject</th>\n",
       "      <th>bands</th>\n",
       "      <th>cv acc</th>\n",
       "    </tr>\n",
       "  </thead>\n",
       "  <tbody>\n",
       "    <tr>\n",
       "      <th>0</th>\n",
       "      <td>1</td>\n",
       "      <td>[(0, 54), (11, 123), (69, 80)]</td>\n",
       "      <td>94.375000</td>\n",
       "    </tr>\n",
       "    <tr>\n",
       "      <th>1</th>\n",
       "      <td>2</td>\n",
       "      <td>[(11, 15), (20, 60), (40, 70)]</td>\n",
       "      <td>78.720787</td>\n",
       "    </tr>\n",
       "    <tr>\n",
       "      <th>2</th>\n",
       "      <td>3</td>\n",
       "      <td>[(9, 29), (18, 36), (40, 77)]</td>\n",
       "      <td>88.181818</td>\n",
       "    </tr>\n",
       "    <tr>\n",
       "      <th>3</th>\n",
       "      <td>4</td>\n",
       "      <td>[(10, 20), (22, 88), (70, 81)]</td>\n",
       "      <td>97.547380</td>\n",
       "    </tr>\n",
       "    <tr>\n",
       "      <th>4</th>\n",
       "      <td>5</td>\n",
       "      <td>[(12, 31), (31, 70), (70, 87)]</td>\n",
       "      <td>95.694444</td>\n",
       "    </tr>\n",
       "    <tr>\n",
       "      <th>5</th>\n",
       "      <td>6</td>\n",
       "      <td>[(12, 32), (35, 66), (68, 88)]</td>\n",
       "      <td>80.716470</td>\n",
       "    </tr>\n",
       "    <tr>\n",
       "      <th>6</th>\n",
       "      <td>7</td>\n",
       "      <td>[(10, 25), (25, 55), (55, 84)]</td>\n",
       "      <td>78.706325</td>\n",
       "    </tr>\n",
       "    <tr>\n",
       "      <th>7</th>\n",
       "      <td>8</td>\n",
       "      <td>[(6, 18), (17, 42), (62, 80)]</td>\n",
       "      <td>82.338924</td>\n",
       "    </tr>\n",
       "    <tr>\n",
       "      <th>8</th>\n",
       "      <td>9</td>\n",
       "      <td>[(15, 29), (29, 59), (62, 80)]</td>\n",
       "      <td>89.886364</td>\n",
       "    </tr>\n",
       "    <tr>\n",
       "      <th>9</th>\n",
       "      <td>10</td>\n",
       "      <td>[(12, 16), (23, 26), (34, 81)]</td>\n",
       "      <td>86.931818</td>\n",
       "    </tr>\n",
       "    <tr>\n",
       "      <th>10</th>\n",
       "      <td>11</td>\n",
       "      <td>[(14, 34), (34, 65), (65, 77)]</td>\n",
       "      <td>92.727273</td>\n",
       "    </tr>\n",
       "    <tr>\n",
       "      <th>11</th>\n",
       "      <td>12</td>\n",
       "      <td>[(9, 14), (12, 29), (29, 54)]</td>\n",
       "      <td>92.840909</td>\n",
       "    </tr>\n",
       "    <tr>\n",
       "      <th>12</th>\n",
       "      <td>13</td>\n",
       "      <td>[(10, 15), (15, 31), (55, 68)]</td>\n",
       "      <td>83.125000</td>\n",
       "    </tr>\n",
       "    <tr>\n",
       "      <th>13</th>\n",
       "      <td>14</td>\n",
       "      <td>[(8, 42), (17, 33), (48, 89)]</td>\n",
       "      <td>94.369290</td>\n",
       "    </tr>\n",
       "  </tbody>\n",
       "</table>\n",
       "</div>"
      ],
      "text/plain": [
       "    subject                           bands     cv acc\n",
       "0         1  [(0, 54), (11, 123), (69, 80)]  94.375000\n",
       "1         2  [(11, 15), (20, 60), (40, 70)]  78.720787\n",
       "2         3   [(9, 29), (18, 36), (40, 77)]  88.181818\n",
       "3         4  [(10, 20), (22, 88), (70, 81)]  97.547380\n",
       "4         5  [(12, 31), (31, 70), (70, 87)]  95.694444\n",
       "5         6  [(12, 32), (35, 66), (68, 88)]  80.716470\n",
       "6         7  [(10, 25), (25, 55), (55, 84)]  78.706325\n",
       "7         8   [(6, 18), (17, 42), (62, 80)]  82.338924\n",
       "8         9  [(15, 29), (29, 59), (62, 80)]  89.886364\n",
       "9        10  [(12, 16), (23, 26), (34, 81)]  86.931818\n",
       "10       11  [(14, 34), (34, 65), (65, 77)]  92.727273\n",
       "11       12   [(9, 14), (12, 29), (29, 54)]  92.840909\n",
       "12       13  [(10, 15), (15, 31), (55, 68)]  83.125000\n",
       "13       14   [(8, 42), (17, 33), (48, 89)]  94.369290"
      ]
     },
     "execution_count": 3,
     "metadata": {},
     "output_type": "execute_result"
    }
   ],
   "source": [
    "# My HGD results so far\n",
    "# manual band selection\n",
    "# ASC2, 10 min fit time\n",
    "d = [\n",
    "    {'subject': 1, 'bands': [(0, 54), (11, 123), (69, 80)], 'cv acc': 94.375},\n",
    "    {'subject': 2, 'bands': [(11, 15), (20, 60), (40, 70)], 'cv acc': 78.720787},\n",
    "    {'subject': 3, 'bands': [(9, 29), (18, 36), (40, 77)] , 'cv acc': 88.18181818181818},\n",
    "    {'subject': 4, 'bands': [(10, 20), (22, 88), (70, 81)], 'cv acc': 97.54738015607581},\n",
    "    {'subject': 5, 'bands': [(12, 31), (31, 70), (70, 87)], 'cv acc': 95.69444444444445},\n",
    "    {'subject': 6, 'bands': [(12, 32), (35, 66), (68, 88)], 'cv acc': 80.71647020973924},\n",
    "    {'subject': 7, 'bands': [(10, 25), (25, 55), (55, 84)], 'cv acc': 78.70632462228138},\n",
    "    {'subject': 8, 'bands': [(6, 18), (17, 42), (62, 80)], 'cv acc': 82.33892389316027},\n",
    "    {'subject': 9, 'bands': [(15, 29), (29, 59), (62, 80)], 'cv acc': 89.88636363636364},\n",
    "    {'subject': 10, 'bands': [(12, 16), (23, 26), (34, 81)], 'cv acc': 86.93181818181819},\n",
    "    {'subject': 11, 'bands': [(14, 34), (34, 65), (65, 77)], 'cv acc': 92.72727272727272},\n",
    "    {'subject': 12, 'bands': [(9, 14), (12, 29), (29, 54)], 'cv acc': 92.8409090909091},\n",
    "    {'subject': 13, 'bands': [(10, 15), (15, 31), (55, 68)], 'cv acc': 83.125},\n",
    "    {'subject': 14, 'bands': [(8, 42), (17, 33), (48, 89)], 'cv acc': 94.36928992546136},\n",
    "]\n",
    "pd.DataFrame(d)"
   ]
  },
  {
   "cell_type": "code",
   "execution_count": 4,
   "metadata": {},
   "outputs": [],
   "source": [
    "ds_name = 'Schirrmeister2017'\n",
    "subject_id = 1\n",
    "out_path = None#'/home/lukas/Code/HGD/'\n",
    "n_jobs = 2\n",
    "agg_func = None#'mean'\n",
    "\n",
    "#------------------------------------------------------------------------------\n",
    "# stuffs to optimize\n",
    "sfreq = 250\n",
    "# original trials have 4s duration\n",
    "frequency_bands = [(32, 99), (76, 77), (114, 123)]\n",
    "trial_start_offset_samples = int(0.5*sfreq)\n",
    "window_size_samples = 500\n",
    "window_stride_samples = 500\n",
    "\n",
    "# clf + hyperparams\n",
    "#------------------------------------------------------------------------------\n",
    "factor = 1e6\n",
    "max_abs_val = 800\n",
    "trial_stop_offset_samples = 0\n",
    "sensors = {\n",
    "    'Schirrmeister2017': (\n",
    "        'C1', 'C2', 'C3', 'C4', 'C5', 'C6', 'CCP1h', 'CCP2h', 'CCP3h', 'CCP4h',\n",
    "        'CCP5h', 'CCP6h', 'CP1', 'CP2', 'CP3', 'CP4', 'CP5', 'CP6', 'CPP1h',\n",
    "        'CPP2h', 'CPP3h', 'CPP4h', 'CPP5h', 'CPP6h', 'CPz', 'Cz', 'FC1', 'FC2',\n",
    "        'FC3', 'FC4', 'FC5', 'FC6', 'FCC1h', 'FCC2h', 'FCC3h', 'FCC4h',\n",
    "        'FCC5h', 'FCC6h', 'FCz', 'FFC1h', 'FFC2h', 'FFC3h', 'FFC4h', 'FFC5h',\n",
    "        'FFC6h'\n",
    "    ),\n",
    "    'BNCI2014001': (\n",
    "        'C1', 'C2', 'C3', 'C4', 'C5', 'C6', 'CP1', 'CP2', 'CP3', 'CP4', 'CPz',\n",
    "        'Cz', 'FC1', 'FC2', 'FC3', 'FC4', 'FCz', 'Fz', 'P1', 'P2', 'POz', 'Pz'\n",
    "    ),\n",
    "}\n",
    "sensors = sensors[ds_name]\n",
    "train_eval_split = {\n",
    "    'Schirrmeister2017': 'run', \n",
    "    'BNCI2014001': 'session',\n",
    "}\n",
    "eval_name = {\n",
    "    'Schirrmeister2017': 'test',\n",
    "    'BNCI2014001': 'session_E',\n",
    "}"
   ]
  },
  {
   "cell_type": "code",
   "execution_count": 5,
   "metadata": {},
   "outputs": [],
   "source": [
    "ds = MOABBDataset(\n",
    "    dataset_name=ds_name,\n",
    "    subject_ids=[subject_id],\n",
    ")"
   ]
  },
  {
   "cell_type": "code",
   "execution_count": 6,
   "metadata": {},
   "outputs": [],
   "source": [
    "# some preprocessing steps\n",
    "preprocessors = [\n",
    "    MNEPreproc(\n",
    "        fn='pick_channels', \n",
    "        ch_names=sensors, \n",
    "        ordered=True\n",
    "    ),\n",
    "    NumpyPreproc(\n",
    "        fn=lambda x: x * factor\n",
    "    ),\n",
    "    NumpyPreproc(\n",
    "        fn=lambda x: np.clip(x, -max_abs_val, max_abs_val)\n",
    "    ),\n",
    "    MNEPreproc(\n",
    "        fn='resample', \n",
    "        sfreq=sfreq\n",
    "    ),\n",
    "    # used by connectivity, time, and cross-frequency domain features\n",
    "    # not used by dft, cwt domain features\n",
    "    MNEPreproc(\n",
    "        fn=filterbank, \n",
    "        frequency_bands=sorted(frequency_bands, key=lambda b: b[0]), \n",
    "        drop_original_signals=False,  \n",
    "    ),\n",
    "]"
   ]
  },
  {
   "cell_type": "code",
   "execution_count": 7,
   "metadata": {},
   "outputs": [],
   "source": [
    "split_indicator = train_eval_split[ds_name]\n",
    "eval_ds_name = eval_name[ds_name]"
   ]
  },
  {
   "cell_type": "code",
   "execution_count": 8,
   "metadata": {},
   "outputs": [
    {
     "name": "stdout",
     "output_type": "stream",
     "text": [
      "test\n"
     ]
    }
   ],
   "source": [
    "# split into train and test session\n",
    "splits = ds.split(split_indicator)\n",
    "for split_name, split_ds in splits.items():\n",
    "    if split_name != eval_ds_name:\n",
    "        continue\n",
    "    break\n",
    "print(split_name)"
   ]
  },
  {
   "cell_type": "code",
   "execution_count": 9,
   "metadata": {},
   "outputs": [],
   "source": [
    "# apply some preprocessing\n",
    "preprocess(\n",
    "    concat_ds=split_ds,\n",
    "    preprocessors=preprocessors,\n",
    ")\n",
    "# extract compute windows \n",
    "windows_ds = create_windows_from_events(\n",
    "    concat_ds=split_ds,\n",
    "    trial_start_offset_samples=trial_start_offset_samples,\n",
    "    trial_stop_offset_samples=trial_stop_offset_samples,\n",
    "    drop_last_window=False,\n",
    "    window_size_samples=window_size_samples,\n",
    "    window_stride_samples=window_stride_samples,\n",
    ")"
   ]
  },
  {
   "cell_type": "code",
   "execution_count": 10,
   "metadata": {},
   "outputs": [
    {
     "data": {
      "text/plain": [
       "960"
      ]
     },
     "execution_count": 10,
     "metadata": {},
     "output_type": "execute_result"
    }
   ],
   "source": [
    "len(windows_ds)"
   ]
  },
  {
   "cell_type": "code",
   "execution_count": 11,
   "metadata": {},
   "outputs": [
    {
     "data": {
      "text/plain": [
       "((180, 250), 3, [0, 2625, 2875])"
      ]
     },
     "execution_count": 11,
     "metadata": {},
     "output_type": "execute_result"
    }
   ],
   "source": [
    "for x, y, ind in windows_ds:\n",
    "    break\n",
    "x.shape, y, ind"
   ]
  },
  {
   "cell_type": "code",
   "execution_count": 16,
   "metadata": {},
   "outputs": [
    {
     "name": "stdout",
     "output_type": "stream",
     "text": [
      "Connectivity\n",
      "Cross-frequency\n",
      "CWT\n",
      "DFT\n",
      "Time\n"
     ]
    }
   ],
   "source": [
    "df = extract_windows_ds_features(\n",
    "    windows_ds=windows_ds,\n",
    "    frequency_bands=frequency_bands,\n",
    "    n_jobs=n_jobs,\n",
    ")"
   ]
  },
  {
   "cell_type": "code",
   "execution_count": 17,
   "metadata": {},
   "outputs": [],
   "source": [
    "# save each trial feature matrix (windows x features) to an individual file\n",
    "if out_path is not None:\n",
    "    save_features_by_trial(\n",
    "        df=df, \n",
    "        out_path=out_path, \n",
    "        subject_id=subject_id, \n",
    "        split_name=split_name,\n",
    "    )"
   ]
  },
  {
   "cell_type": "raw",
   "metadata": {},
   "source": [
    "feature_functions, extraction_routines = get_feature_functions_and_extraction_routines()\n",
    "domain_dfs = {}\n",
    "# extract features by domain, since each domain has it's very own routine\n",
    "for domain in extraction_routines.keys():\n",
    "    print(domain)\n",
    "    transformer_list = _build_transformer_list(feature_functions[domain])\n",
    "        \n",
    "    # TODO: find a solution that makes 'set_params()' work\n",
    "    # such that partial does not have to be used\n",
    "    fu = FeatureUnion(\n",
    "        transformer_list=transformer_list,\n",
    "        n_jobs=n_jobs,\n",
    "    )\n",
    "    # extract features of one domain at a time\n",
    "    domain_dfs[domain] = extraction_routines[domain](\n",
    "        windows_ds=windows_ds,\n",
    "        frequency_bands=frequency_bands,\n",
    "        fu=fu\n",
    "    )\n",
    "# concatenate domain dfs and make final df pretty\n",
    "df = finalize_df(\n",
    "    dfs=list(domain_dfs.values()),\n",
    ")\n",
    "\n",
    "# save each trial feature matrix (windows x features) to an individual file\n",
    "if out_path is not None:\n",
    "    save_features_by_trial(\n",
    "        df=df, \n",
    "        out_path=out_path, \n",
    "        subject_id=subject_id, \n",
    "        split_name=split_name,\n",
    "    )"
   ]
  },
  {
   "cell_type": "code",
   "execution_count": 18,
   "metadata": {},
   "outputs": [
    {
     "data": {
      "text/html": [
       "<div>\n",
       "<style scoped>\n",
       "    .dataframe tbody tr th:only-of-type {\n",
       "        vertical-align: middle;\n",
       "    }\n",
       "\n",
       "    .dataframe tbody tr th {\n",
       "        vertical-align: top;\n",
       "    }\n",
       "\n",
       "    .dataframe thead tr th {\n",
       "        text-align: left;\n",
       "    }\n",
       "</style>\n",
       "<table border=\"1\" class=\"dataframe\">\n",
       "  <thead>\n",
       "    <tr>\n",
       "      <th>Domain</th>\n",
       "      <th>Trial</th>\n",
       "      <th>Window</th>\n",
       "      <th>Target</th>\n",
       "      <th>Time</th>\n",
       "      <th>...</th>\n",
       "      <th colspan=\"4\" halign=\"left\">Connectivity</th>\n",
       "    </tr>\n",
       "    <tr>\n",
       "      <th>Feature</th>\n",
       "      <th></th>\n",
       "      <th></th>\n",
       "      <th></th>\n",
       "      <th>covariance</th>\n",
       "      <th>...</th>\n",
       "      <th colspan=\"4\" halign=\"left\">phase_locking_value</th>\n",
       "    </tr>\n",
       "    <tr>\n",
       "      <th>Channel</th>\n",
       "      <th></th>\n",
       "      <th></th>\n",
       "      <th></th>\n",
       "      <th>C1-C2</th>\n",
       "      <th>...</th>\n",
       "      <th>FFC3h-FFC6h</th>\n",
       "      <th>FFC4h-FFC5h</th>\n",
       "      <th>FFC4h-FFC6h</th>\n",
       "      <th>FFC5h-FFC6h</th>\n",
       "    </tr>\n",
       "    <tr>\n",
       "      <th>Frequency</th>\n",
       "      <th></th>\n",
       "      <th></th>\n",
       "      <th></th>\n",
       "      <th>32-99</th>\n",
       "      <th>...</th>\n",
       "      <th>114-123</th>\n",
       "      <th>114-123</th>\n",
       "      <th>114-123</th>\n",
       "      <th>114-123</th>\n",
       "    </tr>\n",
       "  </thead>\n",
       "  <tbody>\n",
       "    <tr>\n",
       "      <th>0</th>\n",
       "      <td>0</td>\n",
       "      <td>0</td>\n",
       "      <td>3</td>\n",
       "      <td>-0.066360</td>\n",
       "      <td>...</td>\n",
       "      <td>0.157286</td>\n",
       "      <td>0.205863</td>\n",
       "      <td>0.692033</td>\n",
       "      <td>0.151416</td>\n",
       "    </tr>\n",
       "    <tr>\n",
       "      <th>1</th>\n",
       "      <td>0</td>\n",
       "      <td>1</td>\n",
       "      <td>3</td>\n",
       "      <td>-0.050652</td>\n",
       "      <td>...</td>\n",
       "      <td>0.252769</td>\n",
       "      <td>0.186949</td>\n",
       "      <td>0.647706</td>\n",
       "      <td>0.155703</td>\n",
       "    </tr>\n",
       "    <tr>\n",
       "      <th>2</th>\n",
       "      <td>0</td>\n",
       "      <td>2</td>\n",
       "      <td>3</td>\n",
       "      <td>0.018156</td>\n",
       "      <td>...</td>\n",
       "      <td>0.130495</td>\n",
       "      <td>0.118346</td>\n",
       "      <td>0.639727</td>\n",
       "      <td>0.145026</td>\n",
       "    </tr>\n",
       "    <tr>\n",
       "      <th>3</th>\n",
       "      <td>0</td>\n",
       "      <td>3</td>\n",
       "      <td>3</td>\n",
       "      <td>0.131137</td>\n",
       "      <td>...</td>\n",
       "      <td>0.051899</td>\n",
       "      <td>0.075057</td>\n",
       "      <td>0.627171</td>\n",
       "      <td>0.296997</td>\n",
       "    </tr>\n",
       "    <tr>\n",
       "      <th>4</th>\n",
       "      <td>0</td>\n",
       "      <td>4</td>\n",
       "      <td>3</td>\n",
       "      <td>0.004904</td>\n",
       "      <td>...</td>\n",
       "      <td>0.093158</td>\n",
       "      <td>0.141693</td>\n",
       "      <td>0.592972</td>\n",
       "      <td>0.320754</td>\n",
       "    </tr>\n",
       "    <tr>\n",
       "      <th>...</th>\n",
       "      <td>...</td>\n",
       "      <td>...</td>\n",
       "      <td>...</td>\n",
       "      <td>...</td>\n",
       "      <td>...</td>\n",
       "      <td>...</td>\n",
       "      <td>...</td>\n",
       "      <td>...</td>\n",
       "      <td>...</td>\n",
       "    </tr>\n",
       "    <tr>\n",
       "      <th>955</th>\n",
       "      <td>159</td>\n",
       "      <td>1</td>\n",
       "      <td>1</td>\n",
       "      <td>0.062039</td>\n",
       "      <td>...</td>\n",
       "      <td>0.226736</td>\n",
       "      <td>0.210515</td>\n",
       "      <td>0.726512</td>\n",
       "      <td>0.294557</td>\n",
       "    </tr>\n",
       "    <tr>\n",
       "      <th>956</th>\n",
       "      <td>159</td>\n",
       "      <td>2</td>\n",
       "      <td>1</td>\n",
       "      <td>0.097013</td>\n",
       "      <td>...</td>\n",
       "      <td>0.105509</td>\n",
       "      <td>0.268672</td>\n",
       "      <td>0.692571</td>\n",
       "      <td>0.228486</td>\n",
       "    </tr>\n",
       "    <tr>\n",
       "      <th>957</th>\n",
       "      <td>159</td>\n",
       "      <td>3</td>\n",
       "      <td>1</td>\n",
       "      <td>0.135999</td>\n",
       "      <td>...</td>\n",
       "      <td>0.185803</td>\n",
       "      <td>0.326196</td>\n",
       "      <td>0.565510</td>\n",
       "      <td>0.236926</td>\n",
       "    </tr>\n",
       "    <tr>\n",
       "      <th>958</th>\n",
       "      <td>159</td>\n",
       "      <td>4</td>\n",
       "      <td>1</td>\n",
       "      <td>0.089473</td>\n",
       "      <td>...</td>\n",
       "      <td>0.032611</td>\n",
       "      <td>0.077704</td>\n",
       "      <td>0.504051</td>\n",
       "      <td>0.108415</td>\n",
       "    </tr>\n",
       "    <tr>\n",
       "      <th>959</th>\n",
       "      <td>159</td>\n",
       "      <td>5</td>\n",
       "      <td>1</td>\n",
       "      <td>0.034531</td>\n",
       "      <td>...</td>\n",
       "      <td>0.186212</td>\n",
       "      <td>0.132767</td>\n",
       "      <td>0.336864</td>\n",
       "      <td>0.257759</td>\n",
       "    </tr>\n",
       "  </tbody>\n",
       "</table>\n",
       "<p>960 rows × 10668 columns</p>\n",
       "</div>"
      ],
      "text/plain": [
       "Domain    Trial Window Target       Time  ...        Connectivity              \\\n",
       "Feature                       covariance  ... phase_locking_value               \n",
       "Channel                            C1-C2  ...         FFC3h-FFC6h FFC4h-FFC5h   \n",
       "Frequency                          32-99  ...             114-123     114-123   \n",
       "0             0      0      3  -0.066360  ...            0.157286    0.205863   \n",
       "1             0      1      3  -0.050652  ...            0.252769    0.186949   \n",
       "2             0      2      3   0.018156  ...            0.130495    0.118346   \n",
       "3             0      3      3   0.131137  ...            0.051899    0.075057   \n",
       "4             0      4      3   0.004904  ...            0.093158    0.141693   \n",
       "..          ...    ...    ...        ...  ...                 ...         ...   \n",
       "955         159      1      1   0.062039  ...            0.226736    0.210515   \n",
       "956         159      2      1   0.097013  ...            0.105509    0.268672   \n",
       "957         159      3      1   0.135999  ...            0.185803    0.326196   \n",
       "958         159      4      1   0.089473  ...            0.032611    0.077704   \n",
       "959         159      5      1   0.034531  ...            0.186212    0.132767   \n",
       "\n",
       "Domain                             \n",
       "Feature                            \n",
       "Channel   FFC4h-FFC6h FFC5h-FFC6h  \n",
       "Frequency     114-123     114-123  \n",
       "0            0.692033    0.151416  \n",
       "1            0.647706    0.155703  \n",
       "2            0.639727    0.145026  \n",
       "3            0.627171    0.296997  \n",
       "4            0.592972    0.320754  \n",
       "..                ...         ...  \n",
       "955          0.726512    0.294557  \n",
       "956          0.692571    0.228486  \n",
       "957          0.565510    0.236926  \n",
       "958          0.504051    0.108415  \n",
       "959          0.336864    0.257759  \n",
       "\n",
       "[960 rows x 10668 columns]"
      ]
     },
     "execution_count": 18,
     "metadata": {},
     "output_type": "execute_result"
    }
   ],
   "source": [
    "df"
   ]
  },
  {
   "cell_type": "code",
   "execution_count": 20,
   "metadata": {},
   "outputs": [
    {
     "data": {
      "text/html": [
       "<div>\n",
       "<style scoped>\n",
       "    .dataframe tbody tr th:only-of-type {\n",
       "        vertical-align: middle;\n",
       "    }\n",
       "\n",
       "    .dataframe tbody tr th {\n",
       "        vertical-align: top;\n",
       "    }\n",
       "\n",
       "    .dataframe thead tr th {\n",
       "        text-align: left;\n",
       "    }\n",
       "</style>\n",
       "<table border=\"1\" class=\"dataframe\">\n",
       "  <thead>\n",
       "    <tr>\n",
       "      <th>Domain</th>\n",
       "      <th>Target</th>\n",
       "      <th>Trial</th>\n",
       "      <th>Window</th>\n",
       "      <th colspan=\"6\" halign=\"left\">DFT</th>\n",
       "    </tr>\n",
       "    <tr>\n",
       "      <th>Feature</th>\n",
       "      <th></th>\n",
       "      <th></th>\n",
       "      <th></th>\n",
       "      <th>maximum</th>\n",
       "      <th>...</th>\n",
       "      <th colspan=\"4\" halign=\"left\">variance</th>\n",
       "    </tr>\n",
       "    <tr>\n",
       "      <th>Channel</th>\n",
       "      <th></th>\n",
       "      <th></th>\n",
       "      <th></th>\n",
       "      <th>C1</th>\n",
       "      <th>...</th>\n",
       "      <th>FFC3h</th>\n",
       "      <th>FFC4h</th>\n",
       "      <th>FFC5h</th>\n",
       "      <th>FFC6h</th>\n",
       "    </tr>\n",
       "    <tr>\n",
       "      <th>Frequency</th>\n",
       "      <th></th>\n",
       "      <th></th>\n",
       "      <th></th>\n",
       "      <th>32-99</th>\n",
       "      <th>...</th>\n",
       "      <th>114-123</th>\n",
       "      <th>114-123</th>\n",
       "      <th>114-123</th>\n",
       "      <th>114-123</th>\n",
       "    </tr>\n",
       "  </thead>\n",
       "  <tbody>\n",
       "    <tr>\n",
       "      <th>0</th>\n",
       "      <td>3</td>\n",
       "      <td>0</td>\n",
       "      <td>0</td>\n",
       "      <td>40.805969</td>\n",
       "      <td>...</td>\n",
       "      <td>31.721298</td>\n",
       "      <td>32.252262</td>\n",
       "      <td>99.871582</td>\n",
       "      <td>35.139320</td>\n",
       "    </tr>\n",
       "    <tr>\n",
       "      <th>1</th>\n",
       "      <td>3</td>\n",
       "      <td>0</td>\n",
       "      <td>1</td>\n",
       "      <td>44.802074</td>\n",
       "      <td>...</td>\n",
       "      <td>9.503935</td>\n",
       "      <td>19.836935</td>\n",
       "      <td>25.263193</td>\n",
       "      <td>20.628469</td>\n",
       "    </tr>\n",
       "    <tr>\n",
       "      <th>2</th>\n",
       "      <td>3</td>\n",
       "      <td>0</td>\n",
       "      <td>2</td>\n",
       "      <td>29.732462</td>\n",
       "      <td>...</td>\n",
       "      <td>26.667313</td>\n",
       "      <td>10.795629</td>\n",
       "      <td>78.724045</td>\n",
       "      <td>28.061600</td>\n",
       "    </tr>\n",
       "    <tr>\n",
       "      <th>3</th>\n",
       "      <td>3</td>\n",
       "      <td>0</td>\n",
       "      <td>3</td>\n",
       "      <td>35.226177</td>\n",
       "      <td>...</td>\n",
       "      <td>21.799219</td>\n",
       "      <td>14.791245</td>\n",
       "      <td>44.468369</td>\n",
       "      <td>27.315252</td>\n",
       "    </tr>\n",
       "    <tr>\n",
       "      <th>4</th>\n",
       "      <td>3</td>\n",
       "      <td>0</td>\n",
       "      <td>4</td>\n",
       "      <td>38.287865</td>\n",
       "      <td>...</td>\n",
       "      <td>13.666753</td>\n",
       "      <td>17.721926</td>\n",
       "      <td>23.532198</td>\n",
       "      <td>22.680248</td>\n",
       "    </tr>\n",
       "    <tr>\n",
       "      <th>...</th>\n",
       "      <td>...</td>\n",
       "      <td>...</td>\n",
       "      <td>...</td>\n",
       "      <td>...</td>\n",
       "      <td>...</td>\n",
       "      <td>...</td>\n",
       "      <td>...</td>\n",
       "      <td>...</td>\n",
       "      <td>...</td>\n",
       "    </tr>\n",
       "    <tr>\n",
       "      <th>955</th>\n",
       "      <td>1</td>\n",
       "      <td>159</td>\n",
       "      <td>1</td>\n",
       "      <td>31.785318</td>\n",
       "      <td>...</td>\n",
       "      <td>93.108170</td>\n",
       "      <td>114.070778</td>\n",
       "      <td>4838.388672</td>\n",
       "      <td>248.800201</td>\n",
       "    </tr>\n",
       "    <tr>\n",
       "      <th>956</th>\n",
       "      <td>1</td>\n",
       "      <td>159</td>\n",
       "      <td>2</td>\n",
       "      <td>40.698151</td>\n",
       "      <td>...</td>\n",
       "      <td>85.992981</td>\n",
       "      <td>112.546410</td>\n",
       "      <td>4726.959473</td>\n",
       "      <td>184.337280</td>\n",
       "    </tr>\n",
       "    <tr>\n",
       "      <th>957</th>\n",
       "      <td>1</td>\n",
       "      <td>159</td>\n",
       "      <td>3</td>\n",
       "      <td>50.610546</td>\n",
       "      <td>...</td>\n",
       "      <td>58.126785</td>\n",
       "      <td>51.617317</td>\n",
       "      <td>3333.475830</td>\n",
       "      <td>202.180283</td>\n",
       "    </tr>\n",
       "    <tr>\n",
       "      <th>958</th>\n",
       "      <td>1</td>\n",
       "      <td>159</td>\n",
       "      <td>4</td>\n",
       "      <td>30.405659</td>\n",
       "      <td>...</td>\n",
       "      <td>179.295105</td>\n",
       "      <td>67.126373</td>\n",
       "      <td>1864.715088</td>\n",
       "      <td>129.156738</td>\n",
       "    </tr>\n",
       "    <tr>\n",
       "      <th>959</th>\n",
       "      <td>1</td>\n",
       "      <td>159</td>\n",
       "      <td>5</td>\n",
       "      <td>62.471554</td>\n",
       "      <td>...</td>\n",
       "      <td>117.994888</td>\n",
       "      <td>33.729164</td>\n",
       "      <td>5991.532715</td>\n",
       "      <td>154.843292</td>\n",
       "    </tr>\n",
       "  </tbody>\n",
       "</table>\n",
       "<p>960 rows × 1218 columns</p>\n",
       "</div>"
      ],
      "text/plain": [
       "Domain    Target Trial Window        DFT  ...                          \\\n",
       "Feature                          maximum  ...    variance               \n",
       "Channel                               C1  ...       FFC3h       FFC4h   \n",
       "Frequency                          32-99  ...     114-123     114-123   \n",
       "0              3     0      0  40.805969  ...   31.721298   32.252262   \n",
       "1              3     0      1  44.802074  ...    9.503935   19.836935   \n",
       "2              3     0      2  29.732462  ...   26.667313   10.795629   \n",
       "3              3     0      3  35.226177  ...   21.799219   14.791245   \n",
       "4              3     0      4  38.287865  ...   13.666753   17.721926   \n",
       "..           ...   ...    ...        ...  ...         ...         ...   \n",
       "955            1   159      1  31.785318  ...   93.108170  114.070778   \n",
       "956            1   159      2  40.698151  ...   85.992981  112.546410   \n",
       "957            1   159      3  50.610546  ...   58.126785   51.617317   \n",
       "958            1   159      4  30.405659  ...  179.295105   67.126373   \n",
       "959            1   159      5  62.471554  ...  117.994888   33.729164   \n",
       "\n",
       "Domain                              \n",
       "Feature                             \n",
       "Channel          FFC5h       FFC6h  \n",
       "Frequency      114-123     114-123  \n",
       "0            99.871582   35.139320  \n",
       "1            25.263193   20.628469  \n",
       "2            78.724045   28.061600  \n",
       "3            44.468369   27.315252  \n",
       "4            23.532198   22.680248  \n",
       "..                 ...         ...  \n",
       "955        4838.388672  248.800201  \n",
       "956        4726.959473  184.337280  \n",
       "957        3333.475830  202.180283  \n",
       "958        1864.715088  129.156738  \n",
       "959        5991.532715  154.843292  \n",
       "\n",
       "[960 rows x 1218 columns]"
      ]
     },
     "execution_count": 20,
     "metadata": {},
     "output_type": "execute_result"
    }
   ],
   "source": [
    "# inspect subsets of the feature data frame\n",
    "filter_df(\n",
    "    df=df, \n",
    "    query='DFT', \n",
    "    exact_match=False, \n",
    "    level_to_consider=None,\n",
    ")"
   ]
  },
  {
   "cell_type": "code",
   "execution_count": 27,
   "metadata": {},
   "outputs": [],
   "source": []
  },
  {
   "cell_type": "code",
   "execution_count": null,
   "metadata": {},
   "outputs": [],
   "source": []
  },
  {
   "cell_type": "code",
   "execution_count": null,
   "metadata": {},
   "outputs": [],
   "source": []
  },
  {
   "cell_type": "code",
   "execution_count": null,
   "metadata": {},
   "outputs": [],
   "source": []
  },
  {
   "cell_type": "raw",
   "metadata": {},
   "source": [
    "Trying other stuffs below. New features etc"
   ]
  },
  {
   "cell_type": "code",
   "execution_count": 48,
   "metadata": {},
   "outputs": [],
   "source": [
    "data = windows_ds.datasets[0].windows.get_data()"
   ]
  },
  {
   "cell_type": "code",
   "execution_count": 50,
   "metadata": {},
   "outputs": [
    {
     "data": {
      "text/plain": [
       "(960, 180, 250)"
      ]
     },
     "execution_count": 50,
     "metadata": {},
     "output_type": "execute_result"
    }
   ],
   "source": [
    "data.shape"
   ]
  },
  {
   "cell_type": "code",
   "execution_count": 33,
   "metadata": {},
   "outputs": [
    {
     "data": {
      "text/plain": [
       "[<matplotlib.lines.Line2D at 0x7f94147b7ad0>]"
      ]
     },
     "execution_count": 33,
     "metadata": {},
     "output_type": "execute_result"
    },
    {
     "data": {
      "image/png": "[encoded data removed]",
      "text/plain": [
       "<Figure size 432x288 with 1 Axes>"
      ]
     },
     "metadata": {},
     "output_type": "display_data"
    }
   ],
   "source": [
    "plt.plot(data[0,0])"
   ]
  },
  {
   "cell_type": "code",
   "execution_count": 34,
   "metadata": {},
   "outputs": [],
   "source": [
    "from scipy.signal import hilbert"
   ]
  },
  {
   "cell_type": "code",
   "execution_count": 35,
   "metadata": {},
   "outputs": [
    {
     "data": {
      "text/plain": [
       "(960, 180, 250)"
      ]
     },
     "execution_count": 35,
     "metadata": {},
     "output_type": "execute_result"
    }
   ],
   "source": [
    "data.shape"
   ]
  },
  {
   "cell_type": "code",
   "execution_count": 36,
   "metadata": {},
   "outputs": [],
   "source": [
    "analytical_signal = hilbert(data, axis=-1)"
   ]
  },
  {
   "cell_type": "code",
   "execution_count": 37,
   "metadata": {},
   "outputs": [
    {
     "data": {
      "text/plain": [
       "(960, 180, 250)"
      ]
     },
     "execution_count": 37,
     "metadata": {},
     "output_type": "execute_result"
    }
   ],
   "source": [
    "analytical_signal.shape"
   ]
  },
  {
   "cell_type": "code",
   "execution_count": 42,
   "metadata": {},
   "outputs": [
    {
     "data": {
      "text/plain": [
       "[<matplotlib.lines.Line2D at 0x7f94145d3910>]"
      ]
     },
     "execution_count": 42,
     "metadata": {},
     "output_type": "execute_result"
    },
    {
     "data": {
      "image/png": "[encoded data removed]",
      "text/plain": [
       "<Figure size 432x288 with 1 Axes>"
      ]
     },
     "metadata": {},
     "output_type": "display_data"
    }
   ],
   "source": [
    "plt.plot(np.imag(analytical_signal[0,0]))\n",
    "plt.plot(np.abs(analytical_signal[0,0]))\n",
    "plt.plot(np.real(analytical_signal[0,0]))"
   ]
  },
  {
   "cell_type": "code",
   "execution_count": null,
   "metadata": {},
   "outputs": [],
   "source": []
  },
  {
   "cell_type": "code",
   "execution_count": null,
   "metadata": {},
   "outputs": [],
   "source": []
  },
  {
   "cell_type": "code",
   "execution_count": null,
   "metadata": {},
   "outputs": [],
   "source": []
  },
  {
   "cell_type": "code",
   "execution_count": null,
   "metadata": {},
   "outputs": [],
   "source": []
  },
  {
   "cell_type": "code",
   "execution_count": null,
   "metadata": {},
   "outputs": [],
   "source": []
  },
  {
   "cell_type": "raw",
   "metadata": {},
   "source": [
    "out_path = './'"
   ]
  },
  {
   "cell_type": "raw",
   "metadata": {},
   "source": [
    "# save each trial feature matrix (windows x features) to an individual file\n",
    "if out_path is not None:\n",
    "    save_features_by_trial(\n",
    "        df=df, \n",
    "        out_path=out_path, \n",
    "        subject_id=subject_id, \n",
    "        split_name=split_name,\n",
    "    )"
   ]
  },
  {
   "cell_type": "code",
   "execution_count": null,
   "metadata": {},
   "outputs": [],
   "source": []
  },
  {
   "cell_type": "code",
   "execution_count": null,
   "metadata": {},
   "outputs": [],
   "source": []
  },
  {
   "cell_type": "code",
   "execution_count": 87,
   "metadata": {},
   "outputs": [
    {
     "data": {
      "text/plain": [
       "[<matplotlib.lines.Line2D at 0x7f940f5f2910>]"
      ]
     },
     "execution_count": 87,
     "metadata": {},
     "output_type": "execute_result"
    },
    {
     "data": {
      "image/png": "[encoded data removed]",
      "text/plain": [
       "<Figure size 432x288 with 1 Axes>"
      ]
     },
     "metadata": {},
     "output_type": "display_data"
    }
   ],
   "source": [
    "plt.plot(data[100,2])"
   ]
  },
  {
   "cell_type": "code",
   "execution_count": null,
   "metadata": {},
   "outputs": [],
   "source": []
  },
  {
   "cell_type": "code",
   "execution_count": 92,
   "metadata": {},
   "outputs": [],
   "source": [
    "duration = 1.0\n",
    "fs = 400.0\n",
    "samples = int(fs*duration)\n",
    "t = np.arange(samples) / fs\n",
    "\n",
    "#We create a chirp of which the frequency increases from 20 Hz to 100 Hz and apply an amplitude modulation.\n",
    "\n",
    "signal = chirp(t, 20.0, t[-1], 100.0)\n",
    "signal *= (1.0 + 0.5 * np.sin(2.0*np.pi*3.0*t) )\n",
    "signal=data[100,123]\n",
    "\n",
    "#The amplitude envelope is given by magnitude of the analytic signal. The instantaneous frequency can be obtained by differentiating the instantaneous phase in respect to time. The instantaneous phase corresponds to the phase angle of the analytic signal.\n",
    "\n",
    "analytic_signal = hilbert(signal)\n",
    "amplitude_envelope = np.abs(analytic_signal)\n",
    "instantaneous_phase = np.unwrap(np.angle(analytic_signal))\n",
    "instantaneous_frequency = (np.diff(instantaneous_phase) /\n",
    "                           (2.0*np.pi) * fs)\n",
    "\n"
   ]
  },
  {
   "cell_type": "code",
   "execution_count": 93,
   "metadata": {},
   "outputs": [
    {
     "data": {
      "text/plain": [
       "Text(0.5, 0, 'time in seconds')"
      ]
     },
     "execution_count": 93,
     "metadata": {},
     "output_type": "execute_result"
    },
    {
     "data": {
      "image/png": "[encoded data removed]",
      "text/plain": [
       "<Figure size 432x288 with 2 Axes>"
      ]
     },
     "metadata": {},
     "output_type": "display_data"
    }
   ],
   "source": [
    "fig = plt.figure()\n",
    "ax0 = fig.add_subplot(211)\n",
    "ax0.plot(signal, label='signal')\n",
    "ax0.plot(amplitude_envelope, label='envelope')\n",
    "ax0.set_xlabel(\"time in seconds\")\n",
    "ax0.legend()\n",
    "ax1 = fig.add_subplot(212)\n",
    "ax1.plot(instantaneous_frequency)\n",
    "ax1.set_xlabel(\"time in seconds\")\n",
    "#ax1.set_ylim(0.0, 120.0)"
   ]
  },
  {
   "cell_type": "code",
   "execution_count": 99,
   "metadata": {},
   "outputs": [],
   "source": [
    "    def shannon_entropy(X):\n",
    "        # https://arxiv.org/pdf/2001.08386.pdf\n",
    "        return -np.sum(X/np.max(X) * np.log2(X/np.max(X)), axis=-1)"
   ]
  },
  {
   "cell_type": "code",
   "execution_count": 100,
   "metadata": {},
   "outputs": [
    {
     "data": {
      "text/plain": [
       "114.59081209012189"
      ]
     },
     "execution_count": 100,
     "metadata": {},
     "output_type": "execute_result"
    }
   ],
   "source": [
    "shannon_entropy(amplitude_envelope)"
   ]
  },
  {
   "cell_type": "code",
   "execution_count": null,
   "metadata": {},
   "outputs": [],
   "source": []
  },
  {
   "cell_type": "code",
   "execution_count": null,
   "metadata": {},
   "outputs": [],
   "source": []
  },
  {
   "cell_type": "code",
   "execution_count": null,
   "metadata": {},
   "outputs": [],
   "source": []
  },
  {
   "cell_type": "raw",
   "metadata": {},
   "source": [
    "transform, _ = pywt.cwt(\n",
    "    data, \n",
    "    [_freq_to_scale(freq, 'morl', 250) for freq in [4, 8, 16, 32, 64]], \n",
    "    'morl', \n",
    "    1/250,\n",
    ")"
   ]
  },
  {
   "cell_type": "raw",
   "metadata": {},
   "source": [
    "transform.shape"
   ]
  },
  {
   "cell_type": "raw",
   "metadata": {},
   "source": [
    "fig, ax = plt.subplots(1,1,figsize=(10,10))\n",
    "ax.plot(transform[:,0,1,:].T)"
   ]
  },
  {
   "cell_type": "code",
   "execution_count": null,
   "metadata": {},
   "outputs": [],
   "source": []
  },
  {
   "cell_type": "code",
   "execution_count": null,
   "metadata": {},
   "outputs": [],
   "source": []
  },
  {
   "cell_type": "code",
   "execution_count": null,
   "metadata": {},
   "outputs": [],
   "source": []
  },
  {
   "cell_type": "code",
   "execution_count": null,
   "metadata": {},
   "outputs": [],
   "source": []
  },
  {
   "cell_type": "code",
   "execution_count": null,
   "metadata": {},
   "outputs": [],
   "source": []
  },
  {
   "cell_type": "code",
   "execution_count": 84,
   "metadata": {},
   "outputs": [],
   "source": [
    "def PhaseCoherence(freq, timeSeries, FS):\n",
    "    # https://github.com/emma-holmes/Phase-Coherence-for-Python/blob/master/PhaseCoherence.py\n",
    "    # Get parameters of input data\n",
    "    nMeasures\t = np.shape(timeSeries)[0]\n",
    "    nSamples \t= np.shape(timeSeries)[1]\n",
    "    nSecs = nSamples / FS\n",
    "    print('Number of measurements =', nMeasures)\n",
    "    print('Number of time samples =', nSamples, '=', nSecs, 'seconds')\n",
    "    \n",
    "    # Calculate FFT for each measurement (spect is freq x measurements)\n",
    "    spect = np.fft.fft(timeSeries, axis=1)\n",
    "    \n",
    "    # Normalise by amplitude\n",
    "    spect = spect / abs(spect)\n",
    "    \n",
    "    # Find spectrum values for frequency bin of interest\n",
    "    freqRes = 1 / nSecs;\n",
    "    foibin = round(freq / freqRes + 1) - 1\n",
    "    spectFoi = spect[:,foibin]\n",
    "    \n",
    "    # Find individual phase angles per measurement at frequency of interest\n",
    "    anglesFoi = np.arctan2(spectFoi.imag, spectFoi.real)\n",
    "    \n",
    "    # PC is root mean square of the sums of the cosines and sines of the angles\n",
    "    PC = np.sqrt((np.sum(np.cos(anglesFoi)))**2 + (np.sum(np.sin(anglesFoi)))**2) / np.shape(anglesFoi)[0]\n",
    "    \n",
    "    # Print the value\n",
    "    print('----------------------------------');\n",
    "    print('Phase coherence value = ' + str(\"{0:.3f}\".format(PC)));\n",
    "        \n",
    "    return PC"
   ]
  },
  {
   "cell_type": "code",
   "execution_count": 85,
   "metadata": {},
   "outputs": [],
   "source": [
    "for x, y, ind in windows_ds:\n",
    "    break"
   ]
  },
  {
   "cell_type": "code",
   "execution_count": 86,
   "metadata": {},
   "outputs": [
    {
     "ename": "TypeError",
     "evalue": "PhaseCoherence() missing 2 required positional arguments: 'timeSeries' and 'FS'",
     "output_type": "error",
     "traceback": [
      "\u001b[0;31m---------------------------------------------------------------------------\u001b[0m",
      "\u001b[0;31mTypeError\u001b[0m                                 Traceback (most recent call last)",
      "\u001b[0;32m<ipython-input-86-2bac8bf5c00b>\u001b[0m in \u001b[0;36m<module>\u001b[0;34m\u001b[0m\n\u001b[0;32m----> 1\u001b[0;31m \u001b[0mPhaseCoherence\u001b[0m\u001b[0;34m(\u001b[0m\u001b[0mx\u001b[0m\u001b[0;34m)\u001b[0m\u001b[0;34m\u001b[0m\u001b[0;34m\u001b[0m\u001b[0m\n\u001b[0m",
      "\u001b[0;31mTypeError\u001b[0m: PhaseCoherence() missing 2 required positional arguments: 'timeSeries' and 'FS'"
     ]
    }
   ],
   "source": [
    "PhaseCoherence(, x, windows_ds.datasets[0].info['sfreq'])"
   ]
  },
  {
   "cell_type": "code",
   "execution_count": 87,
   "metadata": {},
   "outputs": [],
   "source": [
    "import mne"
   ]
  },
  {
   "cell_type": "code",
   "execution_count": 137,
   "metadata": {},
   "outputs": [],
   "source": [
    "data = windows_ds.datasets[0].windows.get_data(picks=sensors)"
   ]
  },
  {
   "cell_type": "code",
   "execution_count": 138,
   "metadata": {},
   "outputs": [
    {
     "data": {
      "text/plain": [
       "(320, 45, 500)"
      ]
     },
     "execution_count": 138,
     "metadata": {},
     "output_type": "execute_result"
    }
   ],
   "source": [
    "data.shape"
   ]
  },
  {
   "cell_type": "code",
   "execution_count": 166,
   "metadata": {},
   "outputs": [
    {
     "name": "stdout",
     "output_type": "stream",
     "text": [
      "CPU times: user 81.4 ms, sys: 36.8 ms, total: 118 ms\n",
      "Wall time: 118 ms\n"
     ]
    }
   ],
   "source": [
    "%%time\n",
    "# https://mne.tools/stable/generated/mne.connectivity.spectral_connectivity.html\n",
    "cons, freqs, times, n_epochs, n_tapers = mne.connectivity.spectral_connectivity(\n",
    "    data[:1],\n",
    "    sfreq=windows_ds.datasets[0].windows.info['sfreq'],\n",
    ")"
   ]
  },
  {
   "cell_type": "code",
   "execution_count": 167,
   "metadata": {},
   "outputs": [
    {
     "data": {
      "text/plain": [
       "(45, 45, 246)"
      ]
     },
     "execution_count": 167,
     "metadata": {},
     "output_type": "execute_result"
    }
   ],
   "source": [
    "cons.shape"
   ]
  },
  {
   "cell_type": "code",
   "execution_count": 155,
   "metadata": {},
   "outputs": [
    {
     "data": {
      "text/plain": [
       "(246, 45, 45)"
      ]
     },
     "execution_count": 155,
     "metadata": {},
     "output_type": "execute_result"
    }
   ],
   "source": [
    "cons = np.rollaxis(cons, -1, 0)\n",
    "cons.shape"
   ]
  },
  {
   "cell_type": "code",
   "execution_count": 163,
   "metadata": {},
   "outputs": [
    {
     "data": {
      "text/plain": [
       "<matplotlib.colorbar.Colorbar at 0x7fdd724fdc90>"
      ]
     },
     "execution_count": 163,
     "metadata": {},
     "output_type": "execute_result"
    },
    {
     "data": {
      "image/png": "[encoded data removed]",
      "text/plain": [
       "<Figure size 432x288 with 2 Axes>"
      ]
     },
     "metadata": {},
     "output_type": "display_data"
    }
   ],
   "source": [
    "im = plt.imshow(cons[88], origin='lower', cmap='jet')\n",
    "plt.colorbar(im)"
   ]
  },
  {
   "cell_type": "code",
   "execution_count": 164,
   "metadata": {},
   "outputs": [],
   "source": [
    "tril_cons = np.array([con[np.tril_indices(cons.shape[-1], k=-1)] for con in cons])"
   ]
  },
  {
   "cell_type": "code",
   "execution_count": 165,
   "metadata": {},
   "outputs": [
    {
     "data": {
      "text/plain": [
       "(246, 990)"
      ]
     },
     "execution_count": 165,
     "metadata": {},
     "output_type": "execute_result"
    }
   ],
   "source": [
    "tril_cons.shape"
   ]
  },
  {
   "cell_type": "code",
   "execution_count": null,
   "metadata": {},
   "outputs": [],
   "source": []
  }
 ],
 "metadata": {
  "kernelspec": {
   "display_name": "new_braindecode",
   "language": "python",
   "name": "new_braindecode"
  },
  "language_info": {
   "codemirror_mode": {
    "name": "ipython",
    "version": 3
   },
   "file_extension": ".py",
   "mimetype": "text/x-python",
   "name": "python",
   "nbconvert_exporter": "python",
   "pygments_lexer": "ipython3",
   "version": "3.7.6"
  }
 },
 "nbformat": 4,
 "nbformat_minor": 4
}
