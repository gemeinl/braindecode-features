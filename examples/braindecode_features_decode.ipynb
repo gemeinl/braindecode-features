{
 "cells": [
  {
   "cell_type": "code",
   "execution_count": 1,
   "metadata": {},
   "outputs": [],
   "source": [
    "import sys\n",
    "\n",
    "from sklearn.ensemble import RandomForestClassifier\n",
    "\n",
    "sys.path.insert(0, '/home/gemeinl/code/braindecode-features/')\n",
    "from braindecode_features import *"
   ]
  },
  {
   "cell_type": "code",
   "execution_count": 2,
   "metadata": {},
   "outputs": [
    {
     "name": "stdout",
     "output_type": "stream",
     "text": [
      "                estimator agg_func  windows_as_examples  window_accuracy  \\\n",
      "0  RandomForestClassifier     None                 True              0.0   \n",
      "\n",
      "   trial_accuracy  \n",
      "0             0.0  \n",
      "                estimator agg_func  windows_as_examples  window_accuracy  \\\n",
      "0  RandomForestClassifier     mean                False              1.0   \n",
      "\n",
      "   trial_accuracy  \n",
      "0             1.0  \n"
     ]
    }
   ],
   "source": [
    "subject_id = 1\n",
    "train_or_test = 'train'\n",
    "#path = f'/home/gemeinl/code/mne-features/examples/{subject_id}/{train_or_test}/'\n",
    "#path = '/home/kiessnek/braindecode_features_master/TUH/train_rec/' \n",
    "path = f'./tmp/1/{train_or_test}'\n",
    "n_jobs = 2\n",
    "seed = 20210408\n",
    "np.random.seed(seed)\n",
    "only_last_fold = True\n",
    "# set to integer to enable autosklearn usage with specified integer as training time in minutes\n",
    "n_min = None  # None/2/20 \n",
    "drop_a_window = 0\n",
    "\n",
    "clfs = []\n",
    "rf = RandomForestClassifier(\n",
    "    n_estimators=750, \n",
    "    random_state=seed\n",
    ")\n",
    "clfs.append(rf)\n",
    "if n_min is not None:\n",
    "    # optional import which raises warnings\n",
    "    from autosklearn.experimental.askl2 import AutoSklearn2Classifier\n",
    "    from autosklearn.classification import AutoSklearnClassifier\n",
    "    asc = AutoSklearnClassifier( \n",
    "        time_left_for_this_task=60*n_min,\n",
    "        ml_memory_limit=8192,\n",
    "        n_jobs=n_jobs,\n",
    "        seed=seed,\n",
    "        initial_configurations_via_metalearning=0,\n",
    "    )\n",
    "    clfs.append(asc)\n",
    "\n",
    "# read features from disk\n",
    "df = read_features(\n",
    "    path=path,\n",
    "    n_jobs=n_jobs,\n",
    ")\n",
    "df.Target = df.Target.astype('int64')\n",
    "\n",
    "# potentially drop first window (for HGD, better decoding when starting at 500ms?)\n",
    "if drop_a_window is not None:\n",
    "    df = drop_window(df, drop_a_window)\n",
    "\n",
    "# try different feature usages\n",
    "# TODO: fix None, False\n",
    "agg_funcs = [None, np.mean]\n",
    "windows_as_examples_ = [True, False]\n",
    "for clf in clfs:\n",
    "    # TODO: add filter_df of feature dataframe\n",
    "    for agg_func, windows_as_examples in zip(agg_funcs, windows_as_examples_):\n",
    "        cross_validate(\n",
    "            df=df,\n",
    "            clf=clf,\n",
    "            subject_id=subject_id,\n",
    "            only_last_fold=only_last_fold,\n",
    "            agg_func=agg_func,\n",
    "            windows_as_examples=windows_as_examples,\n",
    "            out_path=None,\n",
    "        )"
   ]
  },
  {
   "cell_type": "code",
   "execution_count": null,
   "metadata": {},
   "outputs": [],
   "source": []
  },
  {
   "cell_type": "code",
   "execution_count": null,
   "metadata": {},
   "outputs": [],
   "source": []
  },
  {
   "cell_type": "code",
   "execution_count": 3,
   "metadata": {},
   "outputs": [],
   "source": [
    "results = pd.read_csv(\n",
    "    '/home/gemeinl/code/mne-features/examples/1/cv_results.csv',\n",
    "    index_col=0\n",
    ").reset_index(drop=True)"
   ]
  },
  {
   "cell_type": "code",
   "execution_count": 4,
   "metadata": {},
   "outputs": [
    {
     "data": {
      "text/plain": [
       "Index(['subject', 'fold', 'estimator', 'window_accuracy', 'trial_accuracy',\n",
       "       'predictions', 'targets', 'model', 'feature_names',\n",
       "       'windows_as_examples', 'agg_func'],\n",
       "      dtype='object')"
      ]
     },
     "execution_count": 4,
     "metadata": {},
     "output_type": "execute_result"
    }
   ],
   "source": [
    "results.columns"
   ]
  },
  {
   "cell_type": "code",
   "execution_count": 6,
   "metadata": {},
   "outputs": [
    {
     "data": {
      "text/html": [
       "<div>\n",
       "<style scoped>\n",
       "    .dataframe tbody tr th:only-of-type {\n",
       "        vertical-align: middle;\n",
       "    }\n",
       "\n",
       "    .dataframe tbody tr th {\n",
       "        vertical-align: top;\n",
       "    }\n",
       "\n",
       "    .dataframe thead th {\n",
       "        text-align: right;\n",
       "    }\n",
       "</style>\n",
       "<table border=\"1\" class=\"dataframe\">\n",
       "  <thead>\n",
       "    <tr style=\"text-align: right;\">\n",
       "      <th></th>\n",
       "      <th>subject</th>\n",
       "      <th>estimator</th>\n",
       "      <th>window_accuracy</th>\n",
       "      <th>trial_accuracy</th>\n",
       "      <th>agg_func</th>\n",
       "      <th>windows_as_examples</th>\n",
       "    </tr>\n",
       "  </thead>\n",
       "  <tbody>\n",
       "    <tr>\n",
       "      <th>0</th>\n",
       "      <td>1</td>\n",
       "      <td>RandomForestClassifier</td>\n",
       "      <td>0.753125</td>\n",
       "      <td>0.859375</td>\n",
       "      <td>NaN</td>\n",
       "      <td>True</td>\n",
       "    </tr>\n",
       "    <tr>\n",
       "      <th>1</th>\n",
       "      <td>1</td>\n",
       "      <td>RandomForestClassifier</td>\n",
       "      <td>0.921875</td>\n",
       "      <td>0.921875</td>\n",
       "      <td>NaN</td>\n",
       "      <td>False</td>\n",
       "    </tr>\n",
       "    <tr>\n",
       "      <th>2</th>\n",
       "      <td>1</td>\n",
       "      <td>RandomForestClassifier</td>\n",
       "      <td>0.906250</td>\n",
       "      <td>0.906250</td>\n",
       "      <td>mean</td>\n",
       "      <td>False</td>\n",
       "    </tr>\n",
       "  </tbody>\n",
       "</table>\n",
       "</div>"
      ],
      "text/plain": [
       "   subject               estimator  window_accuracy  trial_accuracy agg_func  \\\n",
       "0        1  RandomForestClassifier         0.753125        0.859375      NaN   \n",
       "1        1  RandomForestClassifier         0.921875        0.921875      NaN   \n",
       "2        1  RandomForestClassifier         0.906250        0.906250     mean   \n",
       "\n",
       "   windows_as_examples  \n",
       "0                 True  \n",
       "1                False  \n",
       "2                False  "
      ]
     },
     "execution_count": 6,
     "metadata": {},
     "output_type": "execute_result"
    }
   ],
   "source": [
    "results[['subject', 'estimator', 'window_accuracy', 'trial_accuracy', 'agg_func', 'windows_as_examples']]"
   ]
  },
  {
   "cell_type": "code",
   "execution_count": null,
   "metadata": {},
   "outputs": [],
   "source": []
  }
 ],
 "metadata": {
  "kernelspec": {
   "display_name": "auto-sklearn2",
   "language": "python",
   "name": "auto-sklearn2"
  },
  "language_info": {
   "codemirror_mode": {
    "name": "ipython",
    "version": 3
   },
   "file_extension": ".py",
   "mimetype": "text/x-python",
   "name": "python",
   "nbconvert_exporter": "python",
   "pygments_lexer": "ipython3",
   "version": "3.8.5"
  }
 },
 "nbformat": 4,
 "nbformat_minor": 4
}
